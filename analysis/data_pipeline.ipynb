{
 "cells": [
  {
   "cell_type": "code",
   "execution_count": 1,
   "id": "fe98527f",
   "metadata": {},
   "outputs": [
    {
     "ename": "NameError",
     "evalue": "name 'production_lines' is not defined",
     "output_type": "error",
     "traceback": [
      "\u001b[31m---------------------------------------------------------------------------\u001b[39m",
      "\u001b[31mNameError\u001b[39m                                 Traceback (most recent call last)",
      "\u001b[36mCell\u001b[39m\u001b[36m \u001b[39m\u001b[32mIn[1]\u001b[39m\u001b[32m, line 17\u001b[39m\n\u001b[32m     14\u001b[39m         meta.write_parquet(\u001b[33mf\u001b[39m\u001b[33m\"\u001b[39m\u001b[33mlake/images/\u001b[39m\u001b[38;5;132;01m{\u001b[39;00msource.id\u001b[38;5;132;01m}\u001b[39;00m\u001b[33m.parquet\u001b[39m\u001b[33m\"\u001b[39m)\n\u001b[32m     16\u001b[39m \u001b[38;5;66;03m# 并行处理8条生产线的数据\u001b[39;00m\n\u001b[32m---> \u001b[39m\u001b[32m17\u001b[39m Parallel(n_jobs=\u001b[32m8\u001b[39m)(delayed(ingest_data)(line) \u001b[38;5;28;01mfor\u001b[39;00m line \u001b[38;5;129;01min\u001b[39;00m \u001b[43mproduction_lines\u001b[49m)\n\u001b[32m     19\u001b[39m \u001b[38;5;66;03m# 数据湖统一查询\u001b[39;00m\n\u001b[32m     20\u001b[39m \u001b[38;5;28;01mdef\u001b[39;00m\u001b[38;5;250m \u001b[39m\u001b[34mquery_lake\u001b[39m():\n",
      "\u001b[31mNameError\u001b[39m: name 'production_lines' is not defined"
     ]
    }
   ],
   "source": [
    "import polars as pl\n",
    "from joblib import Parallel, delayed\n",
    "\n",
    "# 多源数据并行注入\n",
    "def ingest_data(source):\n",
    "    if source.type == \"sensor\":\n",
    "        # 读取二进制传感器数据并转换为Parquet\n",
    "        df = pl.read_ndjson(f\"{source.path}/*.bin\", schema={\"timestamp\": pl.Datetime, \"value\": pl.Float32})\n",
    "        df.write_parquet(f\"lake/sensors/{source.id}.parquet\")\n",
    "        \n",
    "    elif source.type == \"image\":\n",
    "        # 图像元数据存储\n",
    "        meta = pl.DataFrame({\"path\": get_image_paths(source)})\n",
    "        meta.write_parquet(f\"lake/images/{source.id}.parquet\")\n",
    "\n",
    "# 并行处理8条生产线的数据\n",
    "Parallel(n_jobs=8)(delayed(ingest_data)(line) for line in production_lines)\n",
    "\n",
    "# 数据湖统一查询\n",
    "def query_lake():\n",
    "    return (\n",
    "        pl.scan_parquet(\"lake/**/*.parquet\")\n",
    "        .filter(pl.col(\"timestamp\") > \"2023-01-01\")\n",
    "        .groupby(\"equipment_id\", \"hour\")\n",
    "        .agg(pl.col(\"vibration\").mean())\n",
    "        .collect(streaming=True)\n",
    "    )"
   ]
  }
 ],
 "metadata": {
  "kernelspec": {
   "display_name": "de",
   "language": "python",
   "name": "python3"
  },
  "language_info": {
   "codemirror_mode": {
    "name": "ipython",
    "version": 3
   },
   "file_extension": ".py",
   "mimetype": "text/x-python",
   "name": "python",
   "nbconvert_exporter": "python",
   "pygments_lexer": "ipython3",
   "version": "3.13.5"
  }
 },
 "nbformat": 4,
 "nbformat_minor": 5
}
